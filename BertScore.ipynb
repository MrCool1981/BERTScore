{
 "cells": [
  {
   "cell_type": "code",
   "execution_count": 2,
   "id": "978bc0ac",
   "metadata": {},
   "outputs": [
    {
     "name": "stdout",
     "output_type": "stream",
     "text": [
      "Collecting evaluate\n",
      "  Downloading evaluate-0.4.4-py3-none-any.whl.metadata (9.5 kB)\n",
      "Collecting datasets>=2.0.0 (from evaluate)\n",
      "  Downloading datasets-4.0.0-py3-none-any.whl.metadata (19 kB)\n",
      "Requirement already satisfied: numpy>=1.17 in c:\\users\\novikova\\appdata\\local\\miniconda3\\lib\\site-packages (from evaluate) (1.26.4)\n",
      "Collecting dill (from evaluate)\n",
      "  Downloading dill-0.4.0-py3-none-any.whl.metadata (10 kB)\n",
      "Requirement already satisfied: pandas in c:\\users\\novikova\\appdata\\local\\miniconda3\\lib\\site-packages (from evaluate) (2.3.1)\n",
      "Requirement already satisfied: requests>=2.19.0 in c:\\users\\novikova\\appdata\\local\\miniconda3\\lib\\site-packages (from evaluate) (2.32.2)\n",
      "Requirement already satisfied: tqdm>=4.62.1 in c:\\users\\novikova\\appdata\\local\\miniconda3\\lib\\site-packages (from evaluate) (4.66.4)\n",
      "Collecting xxhash (from evaluate)\n",
      "  Using cached xxhash-3.5.0-cp312-cp312-win_amd64.whl.metadata (13 kB)\n",
      "Collecting multiprocess (from evaluate)\n",
      "  Downloading multiprocess-0.70.18-py312-none-any.whl.metadata (7.5 kB)\n",
      "Requirement already satisfied: fsspec>=2021.05.0 in c:\\users\\novikova\\appdata\\local\\miniconda3\\lib\\site-packages (from fsspec[http]>=2021.05.0->evaluate) (2025.5.1)\n",
      "Requirement already satisfied: huggingface-hub>=0.7.0 in c:\\users\\novikova\\appdata\\local\\miniconda3\\lib\\site-packages (from evaluate) (0.33.2)\n",
      "Requirement already satisfied: packaging in c:\\users\\novikova\\appdata\\roaming\\python\\python312\\site-packages (from evaluate) (24.0)\n",
      "Requirement already satisfied: filelock in c:\\users\\novikova\\appdata\\local\\miniconda3\\lib\\site-packages (from datasets>=2.0.0->evaluate) (3.18.0)\n",
      "Collecting pyarrow>=15.0.0 (from datasets>=2.0.0->evaluate)\n",
      "  Downloading pyarrow-20.0.0-cp312-cp312-win_amd64.whl.metadata (3.4 kB)\n",
      "Collecting dill (from evaluate)\n",
      "  Using cached dill-0.3.8-py3-none-any.whl.metadata (10 kB)\n",
      "Collecting multiprocess (from evaluate)\n",
      "  Using cached multiprocess-0.70.16-py312-none-any.whl.metadata (7.2 kB)\n",
      "Collecting fsspec>=2021.05.0 (from fsspec[http]>=2021.05.0->evaluate)\n",
      "  Downloading fsspec-2025.3.0-py3-none-any.whl.metadata (11 kB)\n",
      "Requirement already satisfied: pyyaml>=5.1 in c:\\users\\novikova\\appdata\\local\\miniconda3\\lib\\site-packages (from datasets>=2.0.0->evaluate) (6.0.2)\n",
      "Requirement already satisfied: aiohttp!=4.0.0a0,!=4.0.0a1 in c:\\users\\novikova\\appdata\\local\\miniconda3\\lib\\site-packages (from fsspec[http]>=2021.05.0->evaluate) (3.10.9)\n",
      "Requirement already satisfied: typing-extensions>=3.7.4.3 in c:\\users\\novikova\\appdata\\local\\miniconda3\\lib\\site-packages (from huggingface-hub>=0.7.0->evaluate) (4.12.2)\n",
      "Requirement already satisfied: charset-normalizer<4,>=2 in c:\\users\\novikova\\appdata\\local\\miniconda3\\lib\\site-packages (from requests>=2.19.0->evaluate) (2.0.4)\n",
      "Requirement already satisfied: idna<4,>=2.5 in c:\\users\\novikova\\appdata\\local\\miniconda3\\lib\\site-packages (from requests>=2.19.0->evaluate) (3.7)\n",
      "Requirement already satisfied: urllib3<3,>=1.21.1 in c:\\users\\novikova\\appdata\\local\\miniconda3\\lib\\site-packages (from requests>=2.19.0->evaluate) (2.2.2)\n",
      "Requirement already satisfied: certifi>=2017.4.17 in c:\\users\\novikova\\appdata\\local\\miniconda3\\lib\\site-packages (from requests>=2.19.0->evaluate) (2024.6.2)\n",
      "Requirement already satisfied: colorama in c:\\users\\novikova\\appdata\\roaming\\python\\python312\\site-packages (from tqdm>=4.62.1->evaluate) (0.4.6)\n",
      "Requirement already satisfied: python-dateutil>=2.8.2 in c:\\users\\novikova\\appdata\\roaming\\python\\python312\\site-packages (from pandas->evaluate) (2.9.0.post0)\n",
      "Requirement already satisfied: pytz>=2020.1 in c:\\users\\novikova\\appdata\\local\\miniconda3\\lib\\site-packages (from pandas->evaluate) (2025.2)\n",
      "Requirement already satisfied: tzdata>=2022.7 in c:\\users\\novikova\\appdata\\local\\miniconda3\\lib\\site-packages (from pandas->evaluate) (2025.2)\n",
      "Requirement already satisfied: aiohappyeyeballs>=2.3.0 in c:\\users\\novikova\\appdata\\local\\miniconda3\\lib\\site-packages (from aiohttp!=4.0.0a0,!=4.0.0a1->fsspec[http]>=2021.05.0->evaluate) (2.4.3)\n",
      "Requirement already satisfied: aiosignal>=1.1.2 in c:\\users\\novikova\\appdata\\local\\miniconda3\\lib\\site-packages (from aiohttp!=4.0.0a0,!=4.0.0a1->fsspec[http]>=2021.05.0->evaluate) (1.3.1)\n",
      "Requirement already satisfied: attrs>=17.3.0 in c:\\users\\novikova\\appdata\\local\\miniconda3\\lib\\site-packages (from aiohttp!=4.0.0a0,!=4.0.0a1->fsspec[http]>=2021.05.0->evaluate) (24.2.0)\n",
      "Requirement already satisfied: frozenlist>=1.1.1 in c:\\users\\novikova\\appdata\\local\\miniconda3\\lib\\site-packages (from aiohttp!=4.0.0a0,!=4.0.0a1->fsspec[http]>=2021.05.0->evaluate) (1.4.1)\n",
      "Requirement already satisfied: multidict<7.0,>=4.5 in c:\\users\\novikova\\appdata\\local\\miniconda3\\lib\\site-packages (from aiohttp!=4.0.0a0,!=4.0.0a1->fsspec[http]>=2021.05.0->evaluate) (6.1.0)\n",
      "Requirement already satisfied: yarl<2.0,>=1.12.0 in c:\\users\\novikova\\appdata\\local\\miniconda3\\lib\\site-packages (from aiohttp!=4.0.0a0,!=4.0.0a1->fsspec[http]>=2021.05.0->evaluate) (1.14.0)\n",
      "Requirement already satisfied: six>=1.5 in c:\\users\\novikova\\appdata\\roaming\\python\\python312\\site-packages (from python-dateutil>=2.8.2->pandas->evaluate) (1.16.0)\n",
      "Requirement already satisfied: propcache>=0.2.0 in c:\\users\\novikova\\appdata\\local\\miniconda3\\lib\\site-packages (from yarl<2.0,>=1.12.0->aiohttp!=4.0.0a0,!=4.0.0a1->fsspec[http]>=2021.05.0->evaluate) (0.2.0)\n",
      "Downloading evaluate-0.4.4-py3-none-any.whl (84 kB)\n",
      "   ---------------------------------------- 0.0/84.1 kB ? eta -:--:--\n",
      "   ---------------------------------------- 84.1/84.1 kB 4.6 MB/s eta 0:00:00\n",
      "Downloading datasets-4.0.0-py3-none-any.whl (494 kB)\n",
      "   ---------------------------------------- 0.0/494.8 kB ? eta -:--:--\n",
      "   --------------------------------------  491.5/494.8 kB 10.2 MB/s eta 0:00:01\n",
      "   ---------------------------------------- 494.8/494.8 kB 7.8 MB/s eta 0:00:00\n",
      "Using cached dill-0.3.8-py3-none-any.whl (116 kB)\n",
      "Downloading fsspec-2025.3.0-py3-none-any.whl (193 kB)\n",
      "   ---------------------------------------- 0.0/193.6 kB ? eta -:--:--\n",
      "   ---------------------------------------- 0.0/193.6 kB ? eta -:--:--\n",
      "   -- ------------------------------------- 10.2/193.6 kB ? eta -:--:--\n",
      "   -------------------------------------- - 184.3/193.6 kB 3.7 MB/s eta 0:00:01\n",
      "   ---------------------------------------- 193.6/193.6 kB 3.9 MB/s eta 0:00:00\n",
      "Using cached multiprocess-0.70.16-py312-none-any.whl (146 kB)\n",
      "Using cached xxhash-3.5.0-cp312-cp312-win_amd64.whl (30 kB)\n",
      "Downloading pyarrow-20.0.0-cp312-cp312-win_amd64.whl (25.7 MB)\n",
      "   ---------------------------------------- 0.0/25.7 MB ? eta -:--:--\n",
      "    --------------------------------------- 0.4/25.7 MB 12.9 MB/s eta 0:00:02\n",
      "   - -------------------------------------- 0.8/25.7 MB 10.4 MB/s eta 0:00:03\n",
      "   - -------------------------------------- 1.3/25.7 MB 10.2 MB/s eta 0:00:03\n",
      "   -- ------------------------------------- 1.5/25.7 MB 8.8 MB/s eta 0:00:03\n",
      "   -- ------------------------------------- 1.7/25.7 MB 7.8 MB/s eta 0:00:04\n",
      "   --- ------------------------------------ 2.2/25.7 MB 8.2 MB/s eta 0:00:03\n",
      "   ---- ----------------------------------- 2.8/25.7 MB 8.8 MB/s eta 0:00:03\n",
      "   ----- ---------------------------------- 3.3/25.7 MB 9.2 MB/s eta 0:00:03\n",
      "   ------ --------------------------------- 4.0/25.7 MB 9.9 MB/s eta 0:00:03\n",
      "   ------- -------------------------------- 4.6/25.7 MB 10.2 MB/s eta 0:00:03\n",
      "   ------- -------------------------------- 5.0/25.7 MB 10.0 MB/s eta 0:00:03\n",
      "   -------- ------------------------------- 5.4/25.7 MB 9.8 MB/s eta 0:00:03\n",
      "   -------- ------------------------------- 5.8/25.7 MB 9.7 MB/s eta 0:00:03\n",
      "   --------- ------------------------------ 6.2/25.7 MB 9.7 MB/s eta 0:00:02\n",
      "   --------- ------------------------------ 6.3/25.7 MB 9.6 MB/s eta 0:00:03\n",
      "   ---------- ----------------------------- 6.9/25.7 MB 9.3 MB/s eta 0:00:03\n",
      "   ----------- ---------------------------- 7.3/25.7 MB 9.2 MB/s eta 0:00:03\n",
      "   ------------ --------------------------- 7.9/25.7 MB 9.4 MB/s eta 0:00:02\n",
      "   ------------- -------------------------- 8.5/25.7 MB 9.7 MB/s eta 0:00:02\n",
      "   -------------- ------------------------- 9.2/25.7 MB 9.8 MB/s eta 0:00:02\n",
      "   --------------- ------------------------ 9.7/25.7 MB 9.9 MB/s eta 0:00:02\n",
      "   --------------- ------------------------ 10.1/25.7 MB 9.8 MB/s eta 0:00:02\n",
      "   ---------------- ----------------------- 10.5/25.7 MB 9.6 MB/s eta 0:00:02\n",
      "   ----------------- ---------------------- 11.0/25.7 MB 9.8 MB/s eta 0:00:02\n",
      "   ----------------- ---------------------- 11.4/25.7 MB 9.8 MB/s eta 0:00:02\n",
      "   ------------------ --------------------- 11.9/25.7 MB 10.2 MB/s eta 0:00:02\n",
      "   ------------------- -------------------- 12.5/25.7 MB 10.4 MB/s eta 0:00:02\n",
      "   -------------------- ------------------- 13.1/25.7 MB 10.4 MB/s eta 0:00:02\n",
      "   --------------------- ------------------ 13.8/25.7 MB 10.4 MB/s eta 0:00:02\n",
      "   ---------------------- ----------------- 14.4/25.7 MB 10.4 MB/s eta 0:00:02\n",
      "   ---------------------- ----------------- 14.7/25.7 MB 10.4 MB/s eta 0:00:02\n",
      "   ----------------------- ---------------- 15.1/25.7 MB 10.1 MB/s eta 0:00:02\n",
      "   ------------------------ --------------- 15.5/25.7 MB 10.2 MB/s eta 0:00:01\n",
      "   ------------------------ --------------- 16.0/25.7 MB 10.2 MB/s eta 0:00:01\n",
      "   ------------------------- -------------- 16.5/25.7 MB 10.2 MB/s eta 0:00:01\n",
      "   -------------------------- ------------- 17.0/25.7 MB 10.7 MB/s eta 0:00:01\n",
      "   --------------------------- ------------ 17.5/25.7 MB 10.7 MB/s eta 0:00:01\n",
      "   ---------------------------- ----------- 18.1/25.7 MB 10.9 MB/s eta 0:00:01\n",
      "   ----------------------------- ---------- 18.7/25.7 MB 10.9 MB/s eta 0:00:01\n",
      "   ------------------------------ --------- 19.4/25.7 MB 10.9 MB/s eta 0:00:01\n",
      "   ------------------------------ --------- 19.9/25.7 MB 10.9 MB/s eta 0:00:01\n",
      "   ------------------------------- -------- 20.2/25.7 MB 10.7 MB/s eta 0:00:01\n",
      "   -------------------------------- ------- 20.7/25.7 MB 10.7 MB/s eta 0:00:01\n",
      "   -------------------------------- ------- 21.1/25.7 MB 10.7 MB/s eta 0:00:01\n",
      "   --------------------------------- ------ 21.6/25.7 MB 10.7 MB/s eta 0:00:01\n",
      "   ---------------------------------- ----- 22.1/25.7 MB 10.9 MB/s eta 0:00:01\n",
      "   ----------------------------------- ---- 22.7/25.7 MB 10.9 MB/s eta 0:00:01\n",
      "   ------------------------------------ --- 23.3/25.7 MB 10.7 MB/s eta 0:00:01\n",
      "   ------------------------------------- -- 23.9/25.7 MB 10.7 MB/s eta 0:00:01\n",
      "   -------------------------------------- - 24.4/25.7 MB 10.9 MB/s eta 0:00:01\n",
      "   -------------------------------------- - 24.8/25.7 MB 10.6 MB/s eta 0:00:01\n",
      "   ---------------------------------------  25.1/25.7 MB 10.6 MB/s eta 0:00:01\n",
      "   ---------------------------------------  25.6/25.7 MB 10.7 MB/s eta 0:00:01\n",
      "   ---------------------------------------- 25.7/25.7 MB 10.2 MB/s eta 0:00:00\n",
      "Installing collected packages: xxhash, pyarrow, fsspec, dill, multiprocess, datasets, evaluate\n",
      "  Attempting uninstall: fsspec\n",
      "    Found existing installation: fsspec 2025.5.1\n",
      "    Uninstalling fsspec-2025.5.1:\n",
      "      Successfully uninstalled fsspec-2025.5.1\n",
      "Successfully installed datasets-4.0.0 dill-0.3.8 evaluate-0.4.4 fsspec-2025.3.0 multiprocess-0.70.16 pyarrow-20.0.0 xxhash-3.5.0\n"
     ]
    }
   ],
   "source": [
    "!pip install evaluate"
   ]
  },
  {
   "cell_type": "code",
   "execution_count": 8,
   "id": "7b599d50",
   "metadata": {},
   "outputs": [],
   "source": [
    "predictions = [\"\"\"From Joshi et al 2003, increasing calcium content by preacidifying milk brought several desirable changes in functional properties of part skim Mozzarella cheese. These changes included increased melt area, flow rate, and extent of flow of cheese. \n",
    "Details included a desireable reduction of approximately 35% calcium that almost doubled the melt area of the cheese. \n",
    "Lowering of calcium also caused reduction in time-temperature required for softening and melting of cheese.\"\"\"]"
   ]
  },
  {
   "cell_type": "code",
   "execution_count": 4,
   "id": "0e81b1f6",
   "metadata": {},
   "outputs": [],
   "source": [
    "references = [\"\"\"From Joshi et al 2003, lowering calcium content by preacidifying milk brought several desirable changes in functional properties of part skim Mozzarella cheese. These changes included increased melt area, flow rate, and extent of flow of cheese. \n",
    "Details included a desireable reduction of approximately 35% calcium that almost doubled the melt area of the cheese. \n",
    "Lowering of calcium also caused reduction in time-temperature required for softening and melting of cheese.\"\"\"]"
   ]
  },
  {
   "cell_type": "code",
   "execution_count": 9,
   "id": "51dd7e74",
   "metadata": {},
   "outputs": [
    {
     "name": "stderr",
     "output_type": "stream",
     "text": [
      "Some weights of RobertaModel were not initialized from the model checkpoint at roberta-large and are newly initialized: ['pooler.dense.bias', 'pooler.dense.weight']\n",
      "You should probably TRAIN this model on a down-stream task to be able to use it for predictions and inference.\n"
     ]
    },
    {
     "name": "stdout",
     "output_type": "stream",
     "text": [
      "{'precision': [0.9975027441978455], 'recall': [0.9975027441978455], 'f1': [0.9975027441978455], 'hashcode': 'roberta-large_L17_no-idf_version=0.3.12(hug_trans=4.53.1)'}\n"
     ]
    }
   ],
   "source": [
    "from evaluate import load\n",
    "bertscore = load(\"bertscore\")\n",
    "results = bertscore.compute(predictions=predictions, references=references, lang=\"en\")\n",
    "print(results)"
   ]
  },
  {
   "cell_type": "markdown",
   "id": "b96cb52d",
   "metadata": {},
   "source": [
    "In the two examples above you can see that references reads \"lowering calcium content...\" but prediction reads \"increasing calcium content\". The prediction gives completely wrong answer which is not captured by BERTScore which return precision of 0.9975. Therefore, BERTScore is not able to capture crucial differences in meaning and was rejected by me as a metric for accuracy. It is still a good metric to compare similarity of wording between two texts.\n",
    "\n",
    "In applications where correct answers are critical, BERTScore cannot be used as a sole metric."
   ]
  }
 ],
 "metadata": {
  "kernelspec": {
   "display_name": "base",
   "language": "python",
   "name": "python3"
  },
  "language_info": {
   "codemirror_mode": {
    "name": "ipython",
    "version": 3
   },
   "file_extension": ".py",
   "mimetype": "text/x-python",
   "name": "python",
   "nbconvert_exporter": "python",
   "pygments_lexer": "ipython3",
   "version": "3.12.4"
  }
 },
 "nbformat": 4,
 "nbformat_minor": 5
}
